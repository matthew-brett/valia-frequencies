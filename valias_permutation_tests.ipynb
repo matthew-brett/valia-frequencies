{
 "cells": [
  {
   "cell_type": "code",
   "execution_count": 1,
   "metadata": {
    "collapsed": true
   },
   "outputs": [],
   "source": [
    "import numpy as np\n",
    "np.set_printoptions(precision=4, suppress=True)\n",
    "import scipy.io as sio\n",
    "import matplotlib.pyplot as plt"
   ]
  },
  {
   "cell_type": "code",
   "execution_count": 2,
   "metadata": {
    "collapsed": true
   },
   "outputs": [],
   "source": [
    "%matplotlib inline"
   ]
  },
  {
   "cell_type": "code",
   "execution_count": 3,
   "metadata": {},
   "outputs": [
    {
     "data": {
      "text/plain": [
       "(19, 9, 2)"
      ]
     },
     "execution_count": 3,
     "metadata": {},
     "output_type": "execute_result"
    }
   ],
   "source": [
    "data = sio.loadmat('data_matrices.mat')\n",
    "electrode_freq_prepost = data['mattmatrix']\n",
    "electrode_freq_prepost.shape"
   ]
  },
  {
   "cell_type": "code",
   "execution_count": 4,
   "metadata": {},
   "outputs": [
    {
     "data": {
      "text/plain": [
       "(19, 9)"
      ]
     },
     "execution_count": 4,
     "metadata": {},
     "output_type": "execute_result"
    }
   ],
   "source": [
    "prepost_difference = np.squeeze(np.diff(electrode_freq_prepost, axis=2))\n",
    "prepost_difference.shape"
   ]
  },
  {
   "cell_type": "code",
   "execution_count": 5,
   "metadata": {},
   "outputs": [],
   "source": [
    "n_electrodes, n_bands = prepost_difference.shape"
   ]
  },
  {
   "cell_type": "code",
   "execution_count": 6,
   "metadata": {},
   "outputs": [
    {
     "data": {
      "text/plain": [
       "<matplotlib.text.Text at 0x108dc9908>"
      ]
     },
     "execution_count": 6,
     "metadata": {},
     "output_type": "execute_result"
    },
    {
     "data": {
      "image/png": "[encoded data removed]",
      "text/plain": [
       "<matplotlib.figure.Figure at 0x108d12da0>"
      ]
     },
     "metadata": {},
     "output_type": "display_data"
    }
   ],
   "source": [
    "plt.imshow(prepost_difference)\n",
    "plt.xlabel('Frequency band')\n",
    "plt.ylabel('Electrode')"
   ]
  },
  {
   "cell_type": "code",
   "execution_count": 7,
   "metadata": {
    "collapsed": true
   },
   "outputs": [],
   "source": [
    "def sign_flip_test(vector, iterations=10000):\n",
    "    n = len(vector)\n",
    "    observed_mean = np.mean(vector)\n",
    "    sample_means = []\n",
    "    for i in range(iterations):\n",
    "        flipper = np.random.choice([-1, 1], size=n)\n",
    "        sample = vector * flipper\n",
    "        sample_means.append(np.mean(sample))\n",
    "    sample_means = np.array(sample_means)\n",
    "    bottom_tail = np.sum(observed_mean >= sample_means)\n",
    "    top_tail = np.sum(observed_mean <= sample_means)\n",
    "    return (bottom_tail / float(iterations),\n",
    "            top_tail / float(iterations), \n",
    "            sample_means)"
   ]
  },
  {
   "cell_type": "code",
   "execution_count": 8,
   "metadata": {},
   "outputs": [
    {
     "data": {
      "text/plain": [
       "(0.94020000000000004, 0.062399999999999997, 0.011823558855193544)"
      ]
     },
     "execution_count": 8,
     "metadata": {},
     "output_type": "execute_result"
    }
   ],
   "source": [
    "lo, hi, dist = sign_flip_test(prepost_difference[0, :])\n",
    "lo, hi, np.mean(prepost_difference[0, :])"
   ]
  },
  {
   "cell_type": "code",
   "execution_count": 9,
   "metadata": {},
   "outputs": [
    {
     "data": {
      "image/png": "[encoded data removed]",
      "text/plain": [
       "<matplotlib.figure.Figure at 0x108f1c898>"
      ]
     },
     "metadata": {},
     "output_type": "display_data"
    }
   ],
   "source": [
    "plt.hist(dist);"
   ]
  },
  {
   "cell_type": "code",
   "execution_count": 10,
   "metadata": {},
   "outputs": [
    {
     "data": {
      "text/plain": [
       "array([[ 0.9999,  1.    ,  0.    ,  1.    ,  1.    ,  1.    ,  0.9944,\n",
       "         1.    ,  1.    ],\n",
       "       [ 0.0001,  0.    ,  1.    ,  0.    ,  0.    ,  0.    ,  0.0056,\n",
       "         0.    ,  0.    ]])"
      ]
     },
     "execution_count": 10,
     "metadata": {},
     "output_type": "execute_result"
    }
   ],
   "source": [
    "lo_hi = np.zeros((2, n_bands))\n",
    "for band_no in range(n_bands):\n",
    "    lo, hi, dist = sign_flip_test(prepost_difference[:, band_no])\n",
    "    lo_hi[:, band_no] = [lo, hi]\n",
    "lo_hi"
   ]
  },
  {
   "cell_type": "code",
   "execution_count": 11,
   "metadata": {},
   "outputs": [
    {
     "data": {
      "text/plain": [
       "array([[False, False,  True, False, False, False, False, False, False],\n",
       "       [ True,  True, False,  True,  True,  True, False,  True,  True]], dtype=bool)"
      ]
     },
     "execution_count": 11,
     "metadata": {},
     "output_type": "execute_result"
    }
   ],
   "source": [
    "bonferroni_thresh = 0.05 / (n_bands * 2)\n",
    "lo_hi < bonferroni_thresh"
   ]
  }
 ],
 "metadata": {
  "kernelspec": {
   "display_name": "Python 3",
   "language": "python",
   "name": "python3"
  },
  "language_info": {
   "codemirror_mode": {
    "name": "ipython",
    "version": 3
   },
   "file_extension": ".py",
   "mimetype": "text/x-python",
   "name": "python",
   "nbconvert_exporter": "python",
   "pygments_lexer": "ipython3",
   "version": "3.5.1"
  }
 },
 "nbformat": 4,
 "nbformat_minor": 2
}
